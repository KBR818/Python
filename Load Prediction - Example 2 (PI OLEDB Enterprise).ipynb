{
 "cells": [
  {
   "cell_type": "code",
   "execution_count": null,
   "metadata": {},
   "outputs": [],
   "source": [
    "# EXAMPLE 2 - Create linear regression models for all 60 pole transformers.\n",
    "# Read PI data via PI OLEDB Enterprise using the adodbapi package to establish an OLEDB connection.\n",
    "\n",
    "# Import Python packages.\n",
    "import adodbapi as ado                        # OLEDB support for accessing PI SQL Client - import AF/PI data.\n",
    "import pandas as pd                           # Dataframe support.\n",
    "from sklearn.linear_model import LinearRegression # Linear regression model from the scikit-learn package.\n",
    "\n",
    "# Connect to \"Distribution Network Lab\" model in AF through the PI OLEDB Enterprise.\n",
    "PI_connection = ado.connect(\"Provider=PIOLEDBEnt; Integrated Security=SSPI; Data Source=PISRV01;Command Timeout=0;\")\n",
    "\n",
    "# Create a cursor object to access the data serer for the \"Distribution Network Lab\" database in AF.\n",
    "PI_cursor = PI_connection.cursor()\n",
    "\n",
    "# Select the entire table using the view configured in PI SQL Commander.\n",
    "PI_cursor.execute('SELECT * FROM [Distribution Network].[Asset].[Pole Transformer Loads]')\n",
    "\n",
    "# Extract first row, index=0, to get column names for use as dataframe headers \n",
    "columnNames = [ x[0] for x in PI_cursor.description]\n",
    "print(\"PI View column Names:\\n\\n\", columnNames)\n",
    "\n",
    "# Unpack the cursor rows into a datafraem.\n",
    "poleTransformerLoads = pd.DataFrame([dict(zip(columnNames, row)) for row in PI_cursor], columns=columnNames)\n",
    "\n",
    "# Take a look to see if everythking worked.\n",
    "poleTransformerLoads.head()"
   ]
  },
  {
   "cell_type": "code",
   "execution_count": null,
   "metadata": {},
   "outputs": [],
   "source": [
    "# Rename some columns with shorter names to make them easier to work with.\n",
    "poleTransformerLoads.rename(columns = {'Name' :'Transformer'}, inplace = True)\n",
    "poleTransformerLoads.rename(columns = {'Wh Delivered Load':'Wh Load'}, inplace = True )\n",
    "poleTransformerLoads.rename(columns = {'Wh Delivered Load - 14d':'Wh Load-14d'}, inplace = True )\n",
    "poleTransformerLoads.rename(columns = {'Wh Delivered Load - 7d':'Wh Load-7d'}, inplace = True )\n",
    "poleTransformerLoads.rename(columns = {'Ambient Temperature':'Temperature'}, inplace = True )\n",
    "poleTransformerLoads.rename(columns = {'Relative Humidity':'Humidity'}, inplace = True )\n",
    "poleTransformerLoads.rename(columns = {'Wind Speed':'Wind'}, inplace = True )\n",
    "\n",
    "# Define second dataframe with just data needed for our modelling.\n",
    "modellingData = poleTransformerLoads[['Transformer', 'Timestamp', 'Temperature', 'Humidity',\n",
    "                    'Wind','Wh Load', 'Wh Load-7d', 'Wh Load-14d']]\n",
    "\n",
    "# Peek at the first five rows to make sure things look right.\n",
    "modellingData.head()"
   ]
  },
  {
   "cell_type": "code",
   "execution_count": null,
   "metadata": {},
   "outputs": [],
   "source": [
    "# In order to analyze transformers individually, we need to set the datframe's index to the \"Transformer\" column. \n",
    "modellingData = modellingData.set_index(\"Transformer\", drop=False)\n",
    "\n",
    "# Take a look, see the difference?\n",
    "modellingData.head()"
   ]
  },
  {
   "cell_type": "code",
   "execution_count": null,
   "metadata": {},
   "outputs": [],
   "source": [
    "# Use our existing PI View connectiont to select just the transformer names from the view configured in\n",
    "# PI SQL Commander.\n",
    "PI_cursor.execute('SELECT DISTINCT Name FROM [Distribution Network].[Asset].[Pole Transformer Loads]')\n",
    "\n",
    "# Create a list for the transformer names.\n",
    "transformerNames = []\n",
    "\n",
    "# Populate the list\n",
    "for row in PI_cursor:\n",
    "    transformerNames.append(row[0])\n",
    "\n",
    "# Show tranfomer names list.\n",
    "print(transformerNames)"
   ]
  },
  {
   "cell_type": "code",
   "execution_count": null,
   "metadata": {},
   "outputs": [],
   "source": [
    "# Using the \"adodbapi\" package, to connect to the \"Predictive Equations\" MS SQL.\n",
    "\n",
    "# Set connection parameters.\n",
    "con_string = 'DRIVER={SQL Server};SERVER=PISRV01;DATABASE=PIWorld;Trusted_Connection=Yes;'\n",
    "\n",
    "# Connect to \"Distribution Network Lab\" model in AF through the PI SQL Client.\n",
    "SQL_connection = ado.connect(con_string)\n",
    "\n",
    "# Create a cursor object to access the data serer for the \"Distribution Network Lab\" database in AF.\n",
    "SQL_cursor = SQL_connection.cursor()\n",
    "\n",
    "# Create linear regression object from the \"sklearn\" package we imported earlier.\n",
    "LinReg = LinearRegression()\n",
    "\n",
    "# Looping through the trasformer list, Perform linear regression on each transformer.\n",
    "for transformer in transformerNames:\n",
    "    \n",
    "    # Create dataframe for one transformer.\n",
    "    transformerData = modellingData.loc[transformer,:]\n",
    "    \n",
    "    # Perform linear regression fit\n",
    "    LinReg.fit(transformerData[[\"Wh Load-7d\",\"Wh Load-14d\",\"Temperature\",\"Humidity\"]],transformerData[\"Wh Load\"])\n",
    "    \n",
    "    # Update asset ID value with the name of this transformer.\n",
    "    asset_id = \"'\"+transformer+\"'\" \n",
    "    \n",
    "    # Print equation.\n",
    "    print(transformer, \"Eq:\\n\", LinReg.coef_[0], \"*\",\"'Wh Delivered Load - 7d' + \",LinReg.coef_[1],\n",
    "          \"*\",\"'Wh Delivered Load - 14d' + \", LinReg.coef_[2], \"*\", \"'Ambient Temperature' +\",\n",
    "          LinReg.coef_[3], \"*\",\"'Relative Humidity' +(\",LinReg.intercept_, \")\" )\n",
    "    \n",
    "    ## INSERT and UPDATE queries to load table for the first time or update an existing one.\n",
    "    # Construct query to add this transfomer's model coefficients.\n",
    "    insert_query = f'INSERT [Predictive Equations] ([Asset ID], Coefficient_0, Coefficient_1, Coefficient_2, Coefficient_3, Coefficient_4, Intercept) values({asset_id}, {LinReg.coef_[0]}, {LinReg.coef_[1]}, {LinReg.coef_[2]}, {LinReg.coef_[3]}, null, {LinReg.intercept_})'\n",
    "\n",
    "    update_query = f'UPDATE [Predictive Equations] SET Coefficient_0={LinReg.coef_[0]}, Coefficient_1={LinReg.coef_[1]},Coefficient_2={LinReg.coef_[2]},Coefficient_3={LinReg.coef_[3]},Intercept={LinReg.intercept_} WHERE [Asset ID]= {asset_id}'\n",
    "    \n",
    "    # Insert this record into the \"Predictive Equations\" table.\n",
    "    SQL_cursor.execute(update_query)\n",
    "    \n",
    "# Commit the queries to write the data into SQL.\n",
    "SQL_connection.commit()\n",
    "\n",
    "# Close database connections.\n",
    "SQL_connection.close()\n",
    "PI_connection.close()"
   ]
  },
  {
   "cell_type": "code",
   "execution_count": null,
   "metadata": {},
   "outputs": [],
   "source": []
  }
 ],
 "metadata": {
  "kernelspec": {
   "display_name": "Python 3",
   "language": "python",
   "name": "python3"
  },
  "language_info": {
   "codemirror_mode": {
    "name": "ipython",
    "version": 3
   },
   "file_extension": ".py",
   "mimetype": "text/x-python",
   "name": "python",
   "nbconvert_exporter": "python",
   "pygments_lexer": "ipython3",
   "version": "3.6.4"
  }
 },
 "nbformat": 4,
 "nbformat_minor": 2
}
