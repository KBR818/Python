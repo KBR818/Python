{
 "cells": [
  {
   "cell_type": "code",
   "execution_count": null,
   "metadata": {},
   "outputs": [],
   "source": [
    "# EXAMPLE 1 - Create linear regression models to predict pole transformer loading.\n",
    "# Read PI data from text file published by PI Integrator for Busines Analytics.\n",
    "\n",
    "import pandas as pd             # \"pandas\" for managing dataframe from published .txt file.\n",
    "import numpy as np              # \"numpy\" for statistics.\n",
    "import matplotlib.pyplot as plt # \"matplot.pyplot\" for graphics \n",
    "import seaborn as sns           # \"seaborn\" for statistical data visualization. \n",
    "\n",
    "# Define path relative to curent directory.\n",
    "file_path = 'Pole Transformer Loads.txt'\n",
    "\n",
    "# Read \"Pole Transformer Load.txt\" into the transformers dataframe. \n",
    "poleTransformerLoads = pd.read_csv(file_path,delimiter=\"\\t\")\n",
    "\n",
    "# Print header row of dataframe.\n",
    "print(poleTransformerLoads[0:0])"
   ]
  },
  {
   "cell_type": "code",
   "execution_count": null,
   "metadata": {},
   "outputs": [],
   "source": [
    "# Rename some columns with shorter names to make them easier to work with.\n",
    "poleTransformerLoads.rename(columns = {'Single Phase Transformer':'Transformer'}, inplace = True )\n",
    "poleTransformerLoads.rename(columns = {'Ambient Temperature':'Temperature'}, inplace = True )\n",
    "poleTransformerLoads.rename(columns = {'Relative Humidity':'Humidity'}, inplace = True )\n",
    "poleTransformerLoads.rename(columns = {'Wh Delivered Load':'Wh Load'}, inplace = True )\n",
    "poleTransformerLoads.rename(columns = {'Wh Delivered Load - 14d':'Wh Load-14d'}, inplace = True )\n",
    "poleTransformerLoads.rename(columns = {'Wh Delivered Load - 7d':'Wh Load-7d'}, inplace = True )\n",
    "poleTransformerLoads.rename(columns = {'Wind Speed':'Wind'}, inplace = True )\n",
    "\n",
    "# Define second dataframe with just data needed for our modelling.\n",
    "modellingData = poleTransformerLoads[['Transformer', 'TimeStamp', 'Hour', 'Temperature', 'Humidity',\n",
    "                    'Wind','Wh Load', 'Wh Load-7d', 'Wh Load-14d']]\n",
    "\n",
    "# Peek at the first five rows to make sure things look right.\n",
    "modellingData.head()"
   ]
  },
  {
   "cell_type": "code",
   "execution_count": null,
   "metadata": {},
   "outputs": [],
   "source": [
    "# Peek at the last five rows to make sure we got them all.\n",
    "modellingData.tail()"
   ]
  },
  {
   "cell_type": "code",
   "execution_count": null,
   "metadata": {},
   "outputs": [],
   "source": [
    "# Gain an easy statistical perspective of the values in our dataframe.\n",
    "modellingData.describe().T"
   ]
  },
  {
   "cell_type": "code",
   "execution_count": null,
   "metadata": {},
   "outputs": [],
   "source": [
    "# Generate a correlation matrix to check for the exstance of good relatinoships for our model.\n",
    "model_corr = modellingData.corr(method ='pearson')\n",
    "model_corr"
   ]
  },
  {
   "cell_type": "code",
   "execution_count": null,
   "metadata": {},
   "outputs": [],
   "source": [
    "# Set size of chart.\n",
    "fig, ax = plt.subplots(figsize=(8,8))\n",
    "\n",
    "# Lets supress some of this info by masking it\n",
    "mask = np.zeros_like(model_corr, dtype=np.bool)\n",
    "mask[np.triu_indices_from(mask)] = True\n",
    "\n",
    "# Lets take a graphical view of these correlations.\n",
    "sns.heatmap(data=model_corr, mask=mask, cmap='coolwarm', vmin=-1, vmax=1, linewidths=1, square=True,\n",
    "    annot=True, ax=ax)"
   ]
  },
  {
   "cell_type": "code",
   "execution_count": null,
   "metadata": {},
   "outputs": [],
   "source": [
    "# In order to analyze transformers individually, we need to set the datframe's index to the \"Transformer\" column. \n",
    "modellingData = modellingData.set_index(\"Transformer\", drop=False)\n",
    "\n",
    "# Take a look, see the difference?\n",
    "modellingData.head()"
   ]
  },
  {
   "cell_type": "code",
   "execution_count": null,
   "metadata": {},
   "outputs": [],
   "source": [
    "# Here's how we can focus on one transformer, say PT_XYZ0358.\n",
    "modellingData.loc[\"PT_XYZ0358\",:].head()"
   ]
  },
  {
   "cell_type": "code",
   "execution_count": null,
   "metadata": {},
   "outputs": [],
   "source": [
    "# Redo the correlatioin matrix for just PT_XYZ0358.\n",
    "model_corr = modellingData.loc[\"PT_XYZ0358\",:].corr(method ='pearson')\n",
    "\n",
    "fig, ax = plt.subplots(figsize=(8,8))\n",
    "\n",
    "# Lets supress some of this info by masking it\n",
    "mask = np.zeros_like(model_corr, dtype=np.bool)\n",
    "mask[np.triu_indices_from(mask)] = True\n",
    "\n",
    "# Lets take a graphical view of these correlations.\n",
    "sns.heatmap(data=model_corr, mask=mask, cmap='coolwarm', vmin=-1, vmax=1, linewidths=1, square=True,\n",
    "    annot=True, ax=ax)"
   ]
  },
  {
   "cell_type": "code",
   "execution_count": null,
   "metadata": {},
   "outputs": [],
   "source": [
    "# Import the linear regression model from the scikit-learn package.\n",
    "from sklearn.linear_model import LinearRegression\n",
    "\n",
    "# Create linear regression object\n",
    "LinReg = LinearRegression()\n",
    "\n",
    "# Create dataset of just PT_XYZ0358 data.\n",
    "transformer_0358 = modellingData.loc[\"PT_XYZ0358\",:]\n",
    "\n",
    "# Perform linear regression fit - four terms.\n",
    "LinReg.fit(transformer_0358[[\"Wh Load-7d\",\"Wh Load-14d\",\"Temperature\",\"Humidity\"]],transformer_0358[\"Wh Load\"])\n",
    "\n",
    "# Print equation.\n",
    "print(\"Eq:\\n\", LinReg.coef_[0], \"*\",\"'Wh Delivered Load - 7d' + \",\n",
    "      LinReg.coef_[1], \"*\",\"'Wh Delivered Load - 14d' + \",\n",
    "      LinReg.coef_[2], \"*\", \"'Ambient Temperature' +\",\n",
    "      LinReg.coef_[3], \"*\",\"'Relative Humidity' +(\",LinReg.intercept_, \")\" )"
   ]
  },
  {
   "cell_type": "code",
   "execution_count": null,
   "metadata": {},
   "outputs": [],
   "source": []
  }
 ],
 "metadata": {
  "kernelspec": {
   "display_name": "Python 3",
   "language": "python",
   "name": "python3"
  },
  "language_info": {
   "codemirror_mode": {
    "name": "ipython",
    "version": 3
   },
   "file_extension": ".py",
   "mimetype": "text/x-python",
   "name": "python",
   "nbconvert_exporter": "python",
   "pygments_lexer": "ipython3",
   "version": "3.7.1"
  }
 },
 "nbformat": 4,
 "nbformat_minor": 2
}
